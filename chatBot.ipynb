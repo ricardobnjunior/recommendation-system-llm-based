{
 "cells": [
  {
   "cell_type": "code",
   "execution_count": 2,
   "id": "73cfc391-ed77-4435-983f-c23fe47f2ce5",
   "metadata": {},
   "outputs": [],
   "source": [
    "from langchain import OpenAI\n",
    "from langchain.document_loaders import TextLoader\n",
    "from langchain.text_splitter import RecursiveCharacterTextSplitter\n",
    "from langchain.embeddings.openai import OpenAIEmbeddings\n",
    "from langchain.vectorstores import Chroma\n",
    "from langchain.chains import RetrievalQA\n",
    "\n",
    "import warnings\n",
    "from dotenv import load_dotenv\n",
    "load_dotenv()\n",
    "warnings.filterwarnings('ignore')"
   ]
  },
  {
   "cell_type": "markdown",
   "id": "20f6b153-5d6e-490e-b351-56c3822ece05",
   "metadata": {},
   "source": [
    "## Load Document for get informations"
   ]
  },
  {
   "cell_type": "code",
   "execution_count": 3,
   "id": "1be55119-2795-4ab0-b06f-5a3037288eea",
   "metadata": {},
   "outputs": [],
   "source": [
    "loader = TextLoader('documents/companies_info.txt', autodetect_encoding=True)\n",
    "documents = loader.load()"
   ]
  },
  {
   "cell_type": "code",
   "execution_count": 4,
   "id": "a2bf57df-f1dc-4a56-a4a2-144c9aef9553",
   "metadata": {},
   "outputs": [],
   "source": [
    "text_splitter = RecursiveCharacterTextSplitter(chunk_size=1000, chunk_overlap=200)\n",
    "texts = text_splitter.split_documents(documents)\n",
    "\n",
    "embeddings = OpenAIEmbeddings()\n",
    "store = Chroma.from_documents(texts, embeddings, collection_name=\"state-of-the-union\")"
   ]
  },
  {
   "cell_type": "code",
   "execution_count": 5,
   "id": "1eee1928-0da3-42f1-991a-4e91ec23bda5",
   "metadata": {},
   "outputs": [],
   "source": [
    "llm = OpenAI(temperature=0.7)\n",
    "chain = RetrievalQA.from_chain_type(llm, retriever = store.as_retriever())"
   ]
  },
  {
   "cell_type": "code",
   "execution_count": 6,
   "id": "765a5187-8d3b-4c84-b5e0-7e5b7fc29d2f",
   "metadata": {},
   "outputs": [
    {
     "name": "stdout",
     "output_type": "stream",
     "text": [
      " Company_509 has the highest RecommendationScore of 0.81.\n"
     ]
    }
   ],
   "source": [
    "print(chain.run(\"Which company has the highest RecommendationScore?\"))"
   ]
  },
  {
   "cell_type": "code",
   "execution_count": 24,
   "id": "945241f8-b74b-4caa-aabb-e91af628e5f0",
   "metadata": {},
   "outputs": [
    {
     "name": "stdout",
     "output_type": "stream",
     "text": [
      " San Francisco\n"
     ]
    }
   ],
   "source": [
    "print(chain.run(\"Which city has the most companies with good recommendations?\"))"
   ]
  },
  {
   "cell_type": "code",
   "execution_count": 25,
   "id": "e7afb6aa-2f0a-4bc1-880f-6916dca5819d",
   "metadata": {},
   "outputs": [
    {
     "name": "stdout",
     "output_type": "stream",
     "text": [
      " Based on the given information, it would be recommended to invest in Company_203 as it has a high recommendation score of 0.51 and the owner has no intent to sell. Alternatively, Company_202 also has a high recommendation score of 0.54 and the owner intends to sell, making it a potentially profitable investment opportunity. \n"
     ]
    }
   ],
   "source": [
    "print(chain.run(\"Recommend me a company in New York to invest in\"))"
   ]
  },
  {
   "cell_type": "code",
   "execution_count": 26,
   "id": "f83ad0f2-88f3-4edd-bd2c-04633204807a",
   "metadata": {},
   "outputs": [
    {
     "name": "stdout",
     "output_type": "stream",
     "text": [
      " Based on the given context, companies Company_192, Company_189, Company_190, and Company_191 are good to invest in as they have high recommendation scores and are located in San Francisco. Company_1000 may also be a good option as it is located in San Francisco and has a high recommendation score, but the owner's intent to sell is not specified. Additionally, as a sales rep, the role of the sales rep in Company_192 may provide valuable insight for investment opportunities.\n"
     ]
    }
   ],
   "source": [
    "print(chain.run(\"Which companies in San Francisco are good to invest in?\"))"
   ]
  },
  {
   "cell_type": "code",
   "execution_count": 27,
   "id": "bffa0e28-ed1b-4378-85f7-7dd2b3205c24",
   "metadata": {},
   "outputs": [
    {
     "name": "stdout",
     "output_type": "stream",
     "text": [
      " I'm sorry, I cannot determine the highest recommendation score without more information. The question only provides context for four companies (Company_506, Company_507, Company_508, and Company_509) and none of them have a recommendation score of 0.74. The context for Company_611, Company_612, and Company_613 only shows their recommendation scores as 0.48, 0.44, and 0.41 respectively. Please provide more context or specify the company with the highest recommendation score.\n"
     ]
    }
   ],
   "source": [
    "print(chain.run(\"Which company has the highest recommendation score?\"))"
   ]
  },
  {
   "cell_type": "code",
   "execution_count": 28,
   "id": "c09ef332-a550-4db7-af2a-43614b8b77ba",
   "metadata": {},
   "outputs": [
    {
     "name": "stdout",
     "output_type": "stream",
     "text": [
      " Company_970, Company_972, Company_146, and Company_148.\n"
     ]
    }
   ],
   "source": [
    "print(chain.run(\"Which companies have an Engineer role and are recommended for good business?\"))"
   ]
  },
  {
   "cell_type": "code",
   "execution_count": 29,
   "id": "baeccb84-b83d-4fa6-90d1-b8ae757d8986",
   "metadata": {},
   "outputs": [
    {
     "name": "stdout",
     "output_type": "stream",
     "text": [
      " It is not possible to determine the owner's intent to sell for the company with the lowest funding amount as the information provided does not include the company name or owner's intent to sell for that specific company.\n"
     ]
    }
   ],
   "source": [
    "print(chain.run(\"What is the owner’s intent to sell for the company with the lowest funding amount?\"))"
   ]
  },
  {
   "cell_type": "code",
   "execution_count": 30,
   "id": "318956de-b6ec-48a7-9fd2-0b5b884037b2",
   "metadata": {},
   "outputs": [
    {
     "name": "stdout",
     "output_type": "stream",
     "text": [
      " Company_527.\n"
     ]
    }
   ],
   "source": [
    "print(chain.run(\"Which company has received the highest amount of funding to date?\"))"
   ]
  },
  {
   "cell_type": "code",
   "execution_count": 31,
   "id": "4bf20e67-7722-45e5-a4d1-b9360c382649",
   "metadata": {},
   "outputs": [
    {
     "name": "stdout",
     "output_type": "stream",
     "text": [
      " Company_46 and Company_47.\n"
     ]
    }
   ],
   "source": [
    "print(chain.run(\"Which companies have a Manager role and are recommended for investment?\"))"
   ]
  },
  {
   "cell_type": "code",
   "execution_count": 32,
   "id": "b3bdcfc2-35cf-462a-91ca-c916120795ba",
   "metadata": {},
   "outputs": [
    {
     "name": "stdout",
     "output_type": "stream",
     "text": [
      " Company_493, Company_819\n"
     ]
    }
   ],
   "source": [
    "print(chain.run(\"Which companies have the owner’s intent to sell marked as yes?\"))"
   ]
  },
  {
   "cell_type": "code",
   "execution_count": null,
   "id": "2888a703-1629-4b59-adc7-e5fb1edb1e16",
   "metadata": {},
   "outputs": [],
   "source": []
  }
 ],
 "metadata": {
  "kernelspec": {
   "display_name": "Python 3 (ipykernel)",
   "language": "python",
   "name": "python3"
  },
  "language_info": {
   "codemirror_mode": {
    "name": "ipython",
    "version": 3
   },
   "file_extension": ".py",
   "mimetype": "text/x-python",
   "name": "python",
   "nbconvert_exporter": "python",
   "pygments_lexer": "ipython3",
   "version": "3.12.3"
  }
 },
 "nbformat": 4,
 "nbformat_minor": 5
}
